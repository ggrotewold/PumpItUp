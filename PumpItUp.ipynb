{
 "cells": [
  {
   "cell_type": "markdown",
   "metadata": {},
   "source": [
    "# PumpItUp\n",
    "## DrivenDataCompetition PumpItUp\n",
    "- All data is within the same folder as notebook"
   ]
  },
  {
   "cell_type": "code",
   "execution_count": 2,
   "metadata": {
    "gather": {
     "logged": 1600421346671
    }
   },
   "outputs": [],
   "source": [
    "import pandas as pd\n",
    "import matplotlib as plt\n",
    "import sklearn\n",
    "#import seaborn as sns\n",
    "import numpy as np"
   ]
  },
  {
   "cell_type": "code",
   "execution_count": 3,
   "metadata": {
    "gather": {
     "logged": 1600421348676
    }
   },
   "outputs": [],
   "source": [
    "# load training-data and labels\n",
    "trainingValues = pd.read_csv('4910797b-ee55-40a7-8668-10efd5c1b960.csv')\n",
    "trainingLabels = pd.read_csv('0bf8bc6e-30d0-4c50-956a-603fc693d966.csv')\n",
    "trainingData = pd.merge(trainingValues, trainingLabels, on= 'id')"
   ]
  },
  {
   "cell_type": "markdown",
   "metadata": {},
   "source": [
    "# Investigation on data\n",
    "Possible data-issues\n",
    "* population == 0 -> Delete all lines with population == 0\n",
    "* num_private Not in feature-description -> check what to do with it\n",
    "* object-data needs to be converted in category-numbers"
   ]
  },
  {
   "cell_type": "code",
   "execution_count": 4,
   "metadata": {
    "gather": {
     "logged": 1600421350411
    }
   },
   "outputs": [],
   "source": [
    "# delete population == 0\n",
    "trainingData = trainingData[trainingData.population != 0]\n",
    "\n",
    "\n",
    "def createCatColumnsWithCodes(data : pd.DataFrame):\n",
    "    cat_columns = data.select_dtypes(['object']).columns\n",
    "    if len(cat_columns) == 0:\n",
    "        return data\n",
    "    data[cat_columns] = data[cat_columns].astype('category')\n",
    "    cat_data = data[cat_columns].apply(lambda x: x.cat.codes)\n",
    "    data = data.join(cat_data, rsuffix='_cat')\n",
    "\n",
    "    return data\n",
    "\n",
    "#change labels to category data\n",
    "trainingData = createCatColumnsWithCodes(trainingData)\n"
   ]
  },
  {
   "cell_type": "code",
   "execution_count": 6,
   "metadata": {
    "gather": {
     "logged": 1600421352336
    }
   },
   "outputs": [
    {
     "data": {
      "text/html": [
       "<div>\n",
       "<style scoped>\n",
       "    .dataframe tbody tr th:only-of-type {\n",
       "        vertical-align: middle;\n",
       "    }\n",
       "\n",
       "    .dataframe tbody tr th {\n",
       "        vertical-align: top;\n",
       "    }\n",
       "\n",
       "    .dataframe thead th {\n",
       "        text-align: right;\n",
       "    }\n",
       "</style>\n",
       "<table border=\"1\" class=\"dataframe\">\n",
       "  <thead>\n",
       "    <tr style=\"text-align: right;\">\n",
       "      <th></th>\n",
       "      <th>id</th>\n",
       "      <th>amount_tsh</th>\n",
       "      <th>date_recorded</th>\n",
       "      <th>funder</th>\n",
       "      <th>gps_height</th>\n",
       "      <th>installer</th>\n",
       "      <th>longitude</th>\n",
       "      <th>latitude</th>\n",
       "      <th>wpt_name</th>\n",
       "      <th>num_private</th>\n",
       "      <th>...</th>\n",
       "      <th>water_quality_cat</th>\n",
       "      <th>quality_group_cat</th>\n",
       "      <th>quantity_cat</th>\n",
       "      <th>quantity_group_cat</th>\n",
       "      <th>source_cat</th>\n",
       "      <th>source_type_cat</th>\n",
       "      <th>source_class_cat</th>\n",
       "      <th>waterpoint_type_cat</th>\n",
       "      <th>waterpoint_type_group_cat</th>\n",
       "      <th>status_group_cat</th>\n",
       "    </tr>\n",
       "  </thead>\n",
       "  <tbody>\n",
       "    <tr>\n",
       "      <th>0</th>\n",
       "      <td>69572</td>\n",
       "      <td>6000.0</td>\n",
       "      <td>2011-03-14</td>\n",
       "      <td>Roman</td>\n",
       "      <td>1390</td>\n",
       "      <td>Roman</td>\n",
       "      <td>34.938093</td>\n",
       "      <td>-9.856322</td>\n",
       "      <td>none</td>\n",
       "      <td>0</td>\n",
       "      <td>...</td>\n",
       "      <td>6</td>\n",
       "      <td>2</td>\n",
       "      <td>1</td>\n",
       "      <td>1</td>\n",
       "      <td>8</td>\n",
       "      <td>6</td>\n",
       "      <td>0</td>\n",
       "      <td>1</td>\n",
       "      <td>1</td>\n",
       "      <td>0</td>\n",
       "    </tr>\n",
       "    <tr>\n",
       "      <th>1</th>\n",
       "      <td>8776</td>\n",
       "      <td>0.0</td>\n",
       "      <td>2013-03-06</td>\n",
       "      <td>Grumeti</td>\n",
       "      <td>1399</td>\n",
       "      <td>GRUMETI</td>\n",
       "      <td>34.698766</td>\n",
       "      <td>-2.147466</td>\n",
       "      <td>Zahanati</td>\n",
       "      <td>0</td>\n",
       "      <td>...</td>\n",
       "      <td>6</td>\n",
       "      <td>2</td>\n",
       "      <td>2</td>\n",
       "      <td>2</td>\n",
       "      <td>5</td>\n",
       "      <td>3</td>\n",
       "      <td>1</td>\n",
       "      <td>1</td>\n",
       "      <td>1</td>\n",
       "      <td>0</td>\n",
       "    </tr>\n",
       "    <tr>\n",
       "      <th>2</th>\n",
       "      <td>34310</td>\n",
       "      <td>25.0</td>\n",
       "      <td>2013-02-25</td>\n",
       "      <td>Lottery Club</td>\n",
       "      <td>686</td>\n",
       "      <td>World vision</td>\n",
       "      <td>37.460664</td>\n",
       "      <td>-3.821329</td>\n",
       "      <td>Kwa Mahundi</td>\n",
       "      <td>0</td>\n",
       "      <td>...</td>\n",
       "      <td>6</td>\n",
       "      <td>2</td>\n",
       "      <td>1</td>\n",
       "      <td>1</td>\n",
       "      <td>0</td>\n",
       "      <td>1</td>\n",
       "      <td>1</td>\n",
       "      <td>2</td>\n",
       "      <td>1</td>\n",
       "      <td>0</td>\n",
       "    </tr>\n",
       "    <tr>\n",
       "      <th>3</th>\n",
       "      <td>67743</td>\n",
       "      <td>0.0</td>\n",
       "      <td>2013-01-28</td>\n",
       "      <td>Unicef</td>\n",
       "      <td>263</td>\n",
       "      <td>UNICEF</td>\n",
       "      <td>38.486161</td>\n",
       "      <td>-11.155298</td>\n",
       "      <td>Zahanati Ya Nanyumbu</td>\n",
       "      <td>0</td>\n",
       "      <td>...</td>\n",
       "      <td>6</td>\n",
       "      <td>2</td>\n",
       "      <td>0</td>\n",
       "      <td>0</td>\n",
       "      <td>3</td>\n",
       "      <td>0</td>\n",
       "      <td>0</td>\n",
       "      <td>2</td>\n",
       "      <td>1</td>\n",
       "      <td>2</td>\n",
       "    </tr>\n",
       "    <tr>\n",
       "      <th>5</th>\n",
       "      <td>9944</td>\n",
       "      <td>20.0</td>\n",
       "      <td>2011-03-13</td>\n",
       "      <td>Mkinga Distric Coun</td>\n",
       "      <td>0</td>\n",
       "      <td>DWE</td>\n",
       "      <td>39.172796</td>\n",
       "      <td>-4.765587</td>\n",
       "      <td>Tajiri</td>\n",
       "      <td>0</td>\n",
       "      <td>...</td>\n",
       "      <td>4</td>\n",
       "      <td>4</td>\n",
       "      <td>1</td>\n",
       "      <td>1</td>\n",
       "      <td>4</td>\n",
       "      <td>2</td>\n",
       "      <td>2</td>\n",
       "      <td>2</td>\n",
       "      <td>1</td>\n",
       "      <td>0</td>\n",
       "    </tr>\n",
       "  </tbody>\n",
       "</table>\n",
       "<p>5 rows × 72 columns</p>\n",
       "</div>"
      ],
      "text/plain": [
       "      id  amount_tsh date_recorded               funder  gps_height  \\\n",
       "0  69572      6000.0    2011-03-14                Roman        1390   \n",
       "1   8776         0.0    2013-03-06              Grumeti        1399   \n",
       "2  34310        25.0    2013-02-25         Lottery Club         686   \n",
       "3  67743         0.0    2013-01-28               Unicef         263   \n",
       "5   9944        20.0    2011-03-13  Mkinga Distric Coun           0   \n",
       "\n",
       "      installer  longitude   latitude              wpt_name  num_private  \\\n",
       "0         Roman  34.938093  -9.856322                  none            0   \n",
       "1       GRUMETI  34.698766  -2.147466              Zahanati            0   \n",
       "2  World vision  37.460664  -3.821329           Kwa Mahundi            0   \n",
       "3        UNICEF  38.486161 -11.155298  Zahanati Ya Nanyumbu            0   \n",
       "5           DWE  39.172796  -4.765587                Tajiri            0   \n",
       "\n",
       "        ...        water_quality_cat quality_group_cat quantity_cat  \\\n",
       "0       ...                        6                 2            1   \n",
       "1       ...                        6                 2            2   \n",
       "2       ...                        6                 2            1   \n",
       "3       ...                        6                 2            0   \n",
       "5       ...                        4                 4            1   \n",
       "\n",
       "   quantity_group_cat  source_cat source_type_cat source_class_cat  \\\n",
       "0                   1           8               6                0   \n",
       "1                   2           5               3                1   \n",
       "2                   1           0               1                1   \n",
       "3                   0           3               0                0   \n",
       "5                   1           4               2                2   \n",
       "\n",
       "   waterpoint_type_cat waterpoint_type_group_cat status_group_cat  \n",
       "0                    1                         1                0  \n",
       "1                    1                         1                0  \n",
       "2                    2                         1                0  \n",
       "3                    2                         1                2  \n",
       "5                    2                         1                0  \n",
       "\n",
       "[5 rows x 72 columns]"
      ]
     },
     "execution_count": 6,
     "metadata": {},
     "output_type": "execute_result"
    }
   ],
   "source": [
    "# Show data-frame top\n",
    "trainingData.head()"
   ]
  },
  {
   "cell_type": "code",
   "execution_count": 31,
   "metadata": {},
   "outputs": [
    {
     "data": {
      "text/html": [
       "<div>\n",
       "<style scoped>\n",
       "    .dataframe tbody tr th:only-of-type {\n",
       "        vertical-align: middle;\n",
       "    }\n",
       "\n",
       "    .dataframe tbody tr th {\n",
       "        vertical-align: top;\n",
       "    }\n",
       "\n",
       "    .dataframe thead th {\n",
       "        text-align: right;\n",
       "    }\n",
       "</style>\n",
       "<table border=\"1\" class=\"dataframe\">\n",
       "  <thead>\n",
       "    <tr style=\"text-align: right;\">\n",
       "      <th></th>\n",
       "      <th>status_group</th>\n",
       "      <th>status_group_cat</th>\n",
       "    </tr>\n",
       "  </thead>\n",
       "  <tbody>\n",
       "    <tr>\n",
       "      <th>0</th>\n",
       "      <td>functional</td>\n",
       "      <td>0</td>\n",
       "    </tr>\n",
       "    <tr>\n",
       "      <th>1</th>\n",
       "      <td>functional</td>\n",
       "      <td>0</td>\n",
       "    </tr>\n",
       "    <tr>\n",
       "      <th>2</th>\n",
       "      <td>functional</td>\n",
       "      <td>0</td>\n",
       "    </tr>\n",
       "    <tr>\n",
       "      <th>3</th>\n",
       "      <td>non functional</td>\n",
       "      <td>2</td>\n",
       "    </tr>\n",
       "    <tr>\n",
       "      <th>5</th>\n",
       "      <td>functional</td>\n",
       "      <td>0</td>\n",
       "    </tr>\n",
       "    <tr>\n",
       "      <th>10</th>\n",
       "      <td>functional</td>\n",
       "      <td>0</td>\n",
       "    </tr>\n",
       "    <tr>\n",
       "      <th>11</th>\n",
       "      <td>functional</td>\n",
       "      <td>0</td>\n",
       "    </tr>\n",
       "    <tr>\n",
       "      <th>13</th>\n",
       "      <td>functional</td>\n",
       "      <td>0</td>\n",
       "    </tr>\n",
       "    <tr>\n",
       "      <th>15</th>\n",
       "      <td>functional</td>\n",
       "      <td>0</td>\n",
       "    </tr>\n",
       "    <tr>\n",
       "      <th>16</th>\n",
       "      <td>non functional</td>\n",
       "      <td>2</td>\n",
       "    </tr>\n",
       "    <tr>\n",
       "      <th>17</th>\n",
       "      <td>non functional</td>\n",
       "      <td>2</td>\n",
       "    </tr>\n",
       "    <tr>\n",
       "      <th>18</th>\n",
       "      <td>functional needs repair</td>\n",
       "      <td>1</td>\n",
       "    </tr>\n",
       "    <tr>\n",
       "      <th>19</th>\n",
       "      <td>functional</td>\n",
       "      <td>0</td>\n",
       "    </tr>\n",
       "    <tr>\n",
       "      <th>20</th>\n",
       "      <td>functional</td>\n",
       "      <td>0</td>\n",
       "    </tr>\n",
       "    <tr>\n",
       "      <th>22</th>\n",
       "      <td>functional needs repair</td>\n",
       "      <td>1</td>\n",
       "    </tr>\n",
       "    <tr>\n",
       "      <th>23</th>\n",
       "      <td>functional</td>\n",
       "      <td>0</td>\n",
       "    </tr>\n",
       "    <tr>\n",
       "      <th>24</th>\n",
       "      <td>functional</td>\n",
       "      <td>0</td>\n",
       "    </tr>\n",
       "    <tr>\n",
       "      <th>25</th>\n",
       "      <td>functional needs repair</td>\n",
       "      <td>1</td>\n",
       "    </tr>\n",
       "    <tr>\n",
       "      <th>26</th>\n",
       "      <td>functional</td>\n",
       "      <td>0</td>\n",
       "    </tr>\n",
       "    <tr>\n",
       "      <th>28</th>\n",
       "      <td>non functional</td>\n",
       "      <td>2</td>\n",
       "    </tr>\n",
       "  </tbody>\n",
       "</table>\n",
       "</div>"
      ],
      "text/plain": [
       "               status_group  status_group_cat\n",
       "0                functional                 0\n",
       "1                functional                 0\n",
       "2                functional                 0\n",
       "3            non functional                 2\n",
       "5                functional                 0\n",
       "10               functional                 0\n",
       "11               functional                 0\n",
       "13               functional                 0\n",
       "15               functional                 0\n",
       "16           non functional                 2\n",
       "17           non functional                 2\n",
       "18  functional needs repair                 1\n",
       "19               functional                 0\n",
       "20               functional                 0\n",
       "22  functional needs repair                 1\n",
       "23               functional                 0\n",
       "24               functional                 0\n",
       "25  functional needs repair                 1\n",
       "26               functional                 0\n",
       "28           non functional                 2"
      ]
     },
     "execution_count": 31,
     "metadata": {},
     "output_type": "execute_result"
    }
   ],
   "source": [
    "trainingData[['status_group','status_group_cat']].head(20)"
   ]
  },
  {
   "cell_type": "code",
   "execution_count": 7,
   "metadata": {
    "gather": {
     "logged": 1600421354255
    }
   },
   "outputs": [
    {
     "data": {
      "text/html": [
       "<div>\n",
       "<style scoped>\n",
       "    .dataframe tbody tr th:only-of-type {\n",
       "        vertical-align: middle;\n",
       "    }\n",
       "\n",
       "    .dataframe tbody tr th {\n",
       "        vertical-align: top;\n",
       "    }\n",
       "\n",
       "    .dataframe thead th {\n",
       "        text-align: right;\n",
       "    }\n",
       "</style>\n",
       "<table border=\"1\" class=\"dataframe\">\n",
       "  <thead>\n",
       "    <tr style=\"text-align: right;\">\n",
       "      <th></th>\n",
       "      <th>id</th>\n",
       "      <th>amount_tsh</th>\n",
       "      <th>gps_height</th>\n",
       "      <th>longitude</th>\n",
       "      <th>latitude</th>\n",
       "      <th>num_private</th>\n",
       "      <th>region_code</th>\n",
       "      <th>district_code</th>\n",
       "      <th>population</th>\n",
       "      <th>construction_year</th>\n",
       "      <th>...</th>\n",
       "      <th>water_quality_cat</th>\n",
       "      <th>quality_group_cat</th>\n",
       "      <th>quantity_cat</th>\n",
       "      <th>quantity_group_cat</th>\n",
       "      <th>source_cat</th>\n",
       "      <th>source_type_cat</th>\n",
       "      <th>source_class_cat</th>\n",
       "      <th>waterpoint_type_cat</th>\n",
       "      <th>waterpoint_type_group_cat</th>\n",
       "      <th>status_group_cat</th>\n",
       "    </tr>\n",
       "  </thead>\n",
       "  <tbody>\n",
       "    <tr>\n",
       "      <th>count</th>\n",
       "      <td>38019.000000</td>\n",
       "      <td>38019.000000</td>\n",
       "      <td>38019.000000</td>\n",
       "      <td>38019.000000</td>\n",
       "      <td>38019.000000</td>\n",
       "      <td>38019.000000</td>\n",
       "      <td>38019.000000</td>\n",
       "      <td>38019.000000</td>\n",
       "      <td>38019.000000</td>\n",
       "      <td>38019.000000</td>\n",
       "      <td>...</td>\n",
       "      <td>38019.000000</td>\n",
       "      <td>38019.000000</td>\n",
       "      <td>38019.000000</td>\n",
       "      <td>38019.000000</td>\n",
       "      <td>38019.000000</td>\n",
       "      <td>38019.000000</td>\n",
       "      <td>38019.000000</td>\n",
       "      <td>38019.000000</td>\n",
       "      <td>38019.000000</td>\n",
       "      <td>38019.000000</td>\n",
       "    </tr>\n",
       "    <tr>\n",
       "      <th>mean</th>\n",
       "      <td>37107.559115</td>\n",
       "      <td>447.787681</td>\n",
       "      <td>969.889634</td>\n",
       "      <td>36.074387</td>\n",
       "      <td>-6.139781</td>\n",
       "      <td>0.740788</td>\n",
       "      <td>16.076988</td>\n",
       "      <td>6.299456</td>\n",
       "      <td>281.087167</td>\n",
       "      <td>1961.399721</td>\n",
       "      <td>...</td>\n",
       "      <td>5.775875</td>\n",
       "      <td>2.274757</td>\n",
       "      <td>1.335122</td>\n",
       "      <td>1.335122</td>\n",
       "      <td>6.011494</td>\n",
       "      <td>3.877298</td>\n",
       "      <td>0.262553</td>\n",
       "      <td>2.362266</td>\n",
       "      <td>1.905047</td>\n",
       "      <td>0.829217</td>\n",
       "    </tr>\n",
       "    <tr>\n",
       "      <th>std</th>\n",
       "      <td>21406.803661</td>\n",
       "      <td>3706.770967</td>\n",
       "      <td>612.544787</td>\n",
       "      <td>2.586779</td>\n",
       "      <td>2.737733</td>\n",
       "      <td>15.288297</td>\n",
       "      <td>21.597996</td>\n",
       "      <td>11.303334</td>\n",
       "      <td>564.687660</td>\n",
       "      <td>263.994165</td>\n",
       "      <td>...</td>\n",
       "      <td>0.846857</td>\n",
       "      <td>0.794264</td>\n",
       "      <td>0.763660</td>\n",
       "      <td>0.763660</td>\n",
       "      <td>2.053367</td>\n",
       "      <td>2.268178</td>\n",
       "      <td>0.453973</td>\n",
       "      <td>1.762964</td>\n",
       "      <td>1.368417</td>\n",
       "      <td>0.950787</td>\n",
       "    </tr>\n",
       "    <tr>\n",
       "      <th>min</th>\n",
       "      <td>1.000000</td>\n",
       "      <td>0.000000</td>\n",
       "      <td>-90.000000</td>\n",
       "      <td>29.607122</td>\n",
       "      <td>-11.649440</td>\n",
       "      <td>0.000000</td>\n",
       "      <td>2.000000</td>\n",
       "      <td>1.000000</td>\n",
       "      <td>1.000000</td>\n",
       "      <td>0.000000</td>\n",
       "      <td>...</td>\n",
       "      <td>0.000000</td>\n",
       "      <td>0.000000</td>\n",
       "      <td>0.000000</td>\n",
       "      <td>0.000000</td>\n",
       "      <td>0.000000</td>\n",
       "      <td>0.000000</td>\n",
       "      <td>0.000000</td>\n",
       "      <td>0.000000</td>\n",
       "      <td>0.000000</td>\n",
       "      <td>0.000000</td>\n",
       "    </tr>\n",
       "    <tr>\n",
       "      <th>25%</th>\n",
       "      <td>18514.500000</td>\n",
       "      <td>0.000000</td>\n",
       "      <td>347.000000</td>\n",
       "      <td>34.715340</td>\n",
       "      <td>-8.388839</td>\n",
       "      <td>0.000000</td>\n",
       "      <td>4.000000</td>\n",
       "      <td>2.000000</td>\n",
       "      <td>40.000000</td>\n",
       "      <td>1986.000000</td>\n",
       "      <td>...</td>\n",
       "      <td>6.000000</td>\n",
       "      <td>2.000000</td>\n",
       "      <td>1.000000</td>\n",
       "      <td>1.000000</td>\n",
       "      <td>5.000000</td>\n",
       "      <td>3.000000</td>\n",
       "      <td>0.000000</td>\n",
       "      <td>1.000000</td>\n",
       "      <td>1.000000</td>\n",
       "      <td>0.000000</td>\n",
       "    </tr>\n",
       "    <tr>\n",
       "      <th>50%</th>\n",
       "      <td>37128.000000</td>\n",
       "      <td>0.000000</td>\n",
       "      <td>1135.000000</td>\n",
       "      <td>36.706815</td>\n",
       "      <td>-5.750877</td>\n",
       "      <td>0.000000</td>\n",
       "      <td>10.000000</td>\n",
       "      <td>3.000000</td>\n",
       "      <td>150.000000</td>\n",
       "      <td>2000.000000</td>\n",
       "      <td>...</td>\n",
       "      <td>6.000000</td>\n",
       "      <td>2.000000</td>\n",
       "      <td>1.000000</td>\n",
       "      <td>1.000000</td>\n",
       "      <td>7.000000</td>\n",
       "      <td>5.000000</td>\n",
       "      <td>0.000000</td>\n",
       "      <td>1.000000</td>\n",
       "      <td>1.000000</td>\n",
       "      <td>0.000000</td>\n",
       "    </tr>\n",
       "    <tr>\n",
       "      <th>75%</th>\n",
       "      <td>55505.500000</td>\n",
       "      <td>100.000000</td>\n",
       "      <td>1465.000000</td>\n",
       "      <td>37.940149</td>\n",
       "      <td>-3.597016</td>\n",
       "      <td>0.000000</td>\n",
       "      <td>16.000000</td>\n",
       "      <td>5.000000</td>\n",
       "      <td>324.000000</td>\n",
       "      <td>2008.000000</td>\n",
       "      <td>...</td>\n",
       "      <td>6.000000</td>\n",
       "      <td>2.000000</td>\n",
       "      <td>2.000000</td>\n",
       "      <td>2.000000</td>\n",
       "      <td>8.000000</td>\n",
       "      <td>6.000000</td>\n",
       "      <td>1.000000</td>\n",
       "      <td>4.000000</td>\n",
       "      <td>3.000000</td>\n",
       "      <td>2.000000</td>\n",
       "    </tr>\n",
       "    <tr>\n",
       "      <th>max</th>\n",
       "      <td>74247.000000</td>\n",
       "      <td>350000.000000</td>\n",
       "      <td>2770.000000</td>\n",
       "      <td>40.345193</td>\n",
       "      <td>-1.042375</td>\n",
       "      <td>1776.000000</td>\n",
       "      <td>99.000000</td>\n",
       "      <td>67.000000</td>\n",
       "      <td>30500.000000</td>\n",
       "      <td>2013.000000</td>\n",
       "      <td>...</td>\n",
       "      <td>7.000000</td>\n",
       "      <td>5.000000</td>\n",
       "      <td>4.000000</td>\n",
       "      <td>4.000000</td>\n",
       "      <td>9.000000</td>\n",
       "      <td>6.000000</td>\n",
       "      <td>2.000000</td>\n",
       "      <td>6.000000</td>\n",
       "      <td>5.000000</td>\n",
       "      <td>2.000000</td>\n",
       "    </tr>\n",
       "  </tbody>\n",
       "</table>\n",
       "<p>8 rows × 41 columns</p>\n",
       "</div>"
      ],
      "text/plain": [
       "                 id     amount_tsh    gps_height     longitude      latitude  \\\n",
       "count  38019.000000   38019.000000  38019.000000  38019.000000  38019.000000   \n",
       "mean   37107.559115     447.787681    969.889634     36.074387     -6.139781   \n",
       "std    21406.803661    3706.770967    612.544787      2.586779      2.737733   \n",
       "min        1.000000       0.000000    -90.000000     29.607122    -11.649440   \n",
       "25%    18514.500000       0.000000    347.000000     34.715340     -8.388839   \n",
       "50%    37128.000000       0.000000   1135.000000     36.706815     -5.750877   \n",
       "75%    55505.500000     100.000000   1465.000000     37.940149     -3.597016   \n",
       "max    74247.000000  350000.000000   2770.000000     40.345193     -1.042375   \n",
       "\n",
       "        num_private   region_code  district_code    population  \\\n",
       "count  38019.000000  38019.000000   38019.000000  38019.000000   \n",
       "mean       0.740788     16.076988       6.299456    281.087167   \n",
       "std       15.288297     21.597996      11.303334    564.687660   \n",
       "min        0.000000      2.000000       1.000000      1.000000   \n",
       "25%        0.000000      4.000000       2.000000     40.000000   \n",
       "50%        0.000000     10.000000       3.000000    150.000000   \n",
       "75%        0.000000     16.000000       5.000000    324.000000   \n",
       "max     1776.000000     99.000000      67.000000  30500.000000   \n",
       "\n",
       "       construction_year        ...         water_quality_cat  \\\n",
       "count       38019.000000        ...              38019.000000   \n",
       "mean         1961.399721        ...                  5.775875   \n",
       "std           263.994165        ...                  0.846857   \n",
       "min             0.000000        ...                  0.000000   \n",
       "25%          1986.000000        ...                  6.000000   \n",
       "50%          2000.000000        ...                  6.000000   \n",
       "75%          2008.000000        ...                  6.000000   \n",
       "max          2013.000000        ...                  7.000000   \n",
       "\n",
       "       quality_group_cat  quantity_cat  quantity_group_cat    source_cat  \\\n",
       "count       38019.000000  38019.000000        38019.000000  38019.000000   \n",
       "mean            2.274757      1.335122            1.335122      6.011494   \n",
       "std             0.794264      0.763660            0.763660      2.053367   \n",
       "min             0.000000      0.000000            0.000000      0.000000   \n",
       "25%             2.000000      1.000000            1.000000      5.000000   \n",
       "50%             2.000000      1.000000            1.000000      7.000000   \n",
       "75%             2.000000      2.000000            2.000000      8.000000   \n",
       "max             5.000000      4.000000            4.000000      9.000000   \n",
       "\n",
       "       source_type_cat  source_class_cat  waterpoint_type_cat  \\\n",
       "count     38019.000000      38019.000000         38019.000000   \n",
       "mean          3.877298          0.262553             2.362266   \n",
       "std           2.268178          0.453973             1.762964   \n",
       "min           0.000000          0.000000             0.000000   \n",
       "25%           3.000000          0.000000             1.000000   \n",
       "50%           5.000000          0.000000             1.000000   \n",
       "75%           6.000000          1.000000             4.000000   \n",
       "max           6.000000          2.000000             6.000000   \n",
       "\n",
       "       waterpoint_type_group_cat  status_group_cat  \n",
       "count               38019.000000      38019.000000  \n",
       "mean                    1.905047          0.829217  \n",
       "std                     1.368417          0.950787  \n",
       "min                     0.000000          0.000000  \n",
       "25%                     1.000000          0.000000  \n",
       "50%                     1.000000          0.000000  \n",
       "75%                     3.000000          2.000000  \n",
       "max                     5.000000          2.000000  \n",
       "\n",
       "[8 rows x 41 columns]"
      ]
     },
     "execution_count": 7,
     "metadata": {},
     "output_type": "execute_result"
    }
   ],
   "source": [
    "# Describe data\n",
    "trainingData.describe()"
   ]
  },
  {
   "cell_type": "markdown",
   "metadata": {
    "nteract": {
     "transient": {
      "deleting": false
     }
    }
   },
   "source": [
    "#check correlation\n",
    "fig = plt.pyplot.gcf()\n",
    "fig.set_size_inches(25,25)\n",
    "sns.heatmap(trainingData.corr(), annot = True, fmt='.2g',cmap= 'coolwarm')"
   ]
  },
  {
   "cell_type": "code",
   "execution_count": 8,
   "metadata": {
    "gather": {
     "logged": 1600421356056
    }
   },
   "outputs": [
    {
     "name": "stdout",
     "output_type": "stream",
     "text": [
      "[dtype('int64') dtype('float64')\n",
      " CategoricalDtype(categories=['2004-01-07', '2004-03-01', '2004-03-06', '2004-04-01',\n",
      "                  '2004-05-01', '2004-06-01', '2004-08-01', '2004-09-01',\n",
      "                  '2004-12-01', '2011-01-03',\n",
      "                  ...\n",
      "                  '2013-08-03', '2013-09-02', '2013-09-03', '2013-10-02',\n",
      "                  '2013-10-03', '2013-11-02', '2013-11-03', '2013-12-01',\n",
      "                  '2013-12-02', '2013-12-03'],\n",
      "                 ordered=False)\n",
      " CategoricalDtype(categories=['0', 'A/co Germany', 'Abasia', 'Abdul', 'Abood', 'Abs',\n",
      "                  'Aco/germany', 'Acra', 'Act', 'Act Mara',\n",
      "                  ...\n",
      "                  'Yaole', 'Yasi Naini', 'Yasini', 'Yasini Selemani',\n",
      "                  'Zaburi And Neig', 'Zao', 'Zao Water Spring',\n",
      "                  'Zao Water Spring X', 'Zinduka', 'Zingibali Secondary'],\n",
      "                 ordered=False)\n",
      " CategoricalDtype(categories=['0', 'ABASIA', 'ABDUL', 'AC', 'ACRA', 'ACT', 'ACT MARA',\n",
      "                  'ACTION AID', 'ACTIVE TANK CO', 'ACTIVE TANK CO LTD',\n",
      "                  ...\n",
      "                  'villager', 'villagers', 'villigers', 'wanan', 'wananchi',\n",
      "                  'wananchi technicians', 'wasab', 'water board',\n",
      "                  'wizara ya maji', 'world banks'],\n",
      "                 ordered=False)\n",
      " CategoricalDtype(categories=['A Saidi', 'Abass', 'Abbas', 'Abdalaa', 'Abdalah',\n",
      "                  'Abdalah Ali', 'Abdalah Mashaka', 'Abdalah Miliki',\n",
      "                  'Abdalamani Mussa', 'Abdallah Chingi',\n",
      "                  ...\n",
      "                  'Zogowale Primary School 2', 'Zolongwa', 'Zoza', 'Zuberi',\n",
      "                  'Zuieni', 'Zuleha', 'Zungu', 'Zunguni', 'Zuwena Kindo',\n",
      "                  'none'],\n",
      "                 ordered=False)\n",
      " CategoricalDtype(categories=['Internal', 'Lake Nyasa', 'Lake Rukwa', 'Lake Tanganyika',\n",
      "                  'Lake Victoria', 'Pangani', 'Rufiji',\n",
      "                  'Ruvuma / Southern Coast', 'Wami / Ruvu'],\n",
      "                 ordered=False)\n",
      " CategoricalDtype(categories=[''A' Kati', '1', 'Abene', 'Achatuone', 'Adyuoyo', 'Afandi',\n",
      "                  'Afrika Yakati', 'Afrka Ya Kati', 'Afya', 'Agentina',\n",
      "                  ...\n",
      "                  'Zomba', 'Zomba 'A'', 'Zomba 'B'', 'Zomba A', 'Zomba Kati',\n",
      "                  'Zombengalawa', 'Zonwe', 'Zuiani', 'Zunga', 'Zunguni'],\n",
      "                 ordered=False)\n",
      " CategoricalDtype(categories=['Arusha', 'Dar es Salaam', 'Iringa', 'Kigoma', 'Kilimanjaro',\n",
      "                  'Lindi', 'Manyara', 'Mara', 'Morogoro', 'Mtwara', 'Mwanza',\n",
      "                  'Pwani', 'Rukwa', 'Ruvuma', 'Shinyanga', 'Singida', 'Tanga'],\n",
      "                 ordered=False)\n",
      " CategoricalDtype(categories=['Arusha Rural', 'Arusha Urban', 'Babati', 'Bagamoyo',\n",
      "                  'Bariadi', 'Bunda', 'Hai', 'Hanang', 'Handeni', 'Ilala',\n",
      "                  'Ilemela', 'Iramba', 'Iringa Rural', 'Karatu', 'Kasulu',\n",
      "                  'Kibaha', 'Kibondo', 'Kigoma Rural', 'Kigoma Urban',\n",
      "                  'Kilindi', 'Kilolo', 'Kilombero', 'Kilosa', 'Kilwa',\n",
      "                  'Kinondoni', 'Kisarawe', 'Kiteto', 'Korogwe', 'Lindi Rural',\n",
      "                  'Lindi Urban', 'Liwale', 'Longido', 'Ludewa', 'Lushoto',\n",
      "                  'Mafia', 'Manyoni', 'Masasi', 'Mbinga', 'Mbulu', 'Meru',\n",
      "                  'Mkinga', 'Mkuranga', 'Monduli', 'Morogoro Rural',\n",
      "                  'Morogoro Urban', 'Moshi Rural', 'Moshi Urban', 'Mpanda',\n",
      "                  'Mtwara Rural', 'Mtwara Urban', 'Muheza', 'Musoma Rural',\n",
      "                  'Mvomero', 'Mwanga', 'Nachingwea', 'Namtumbo', 'Nanyumbu',\n",
      "                  'Newala', 'Ngorongoro', 'Njombe', 'Nkasi', 'Pangani',\n",
      "                  'Rombo', 'Rorya', 'Ruangwa', 'Rufiji', 'Same', 'Serengeti',\n",
      "                  'Siha', 'Simanjiro', 'Singida Rural', 'Singida Urban',\n",
      "                  'Songea Rural', 'Songea Urban', 'Sumbawanga Rural',\n",
      "                  'Sumbawanga Urban', 'Tandahimba', 'Tanga', 'Tarime',\n",
      "                  'Temeke', 'Tunduru', 'Ukerewe', 'Ulanga'],\n",
      "                 ordered=False)\n",
      " CategoricalDtype(categories=['Aghondi', 'Akheri', 'Arash', 'Arri', 'Arusha Chini',\n",
      "                  'Balangidalalu', 'Baleni', 'Bangata', 'Bangwe', 'Baraa',\n",
      "                  ...\n",
      "                  'Wariku', 'Wasa', 'Wino', 'Yaeda Chini', 'Yakobi', 'Yombo',\n",
      "                  'Zinga/Ikerege', 'Zirai', 'Ziwani', 'Zombo'],\n",
      "                 ordered=False)\n",
      " CategoricalDtype(categories=[False, True], ordered=False)\n",
      " CategoricalDtype(categories=['GeoData Consultants Ltd'], ordered=False)\n",
      " CategoricalDtype(categories=['Company', 'None', 'Other', 'Parastatal', 'Private operator',\n",
      "                  'SWC', 'Trust', 'VWC', 'WUA', 'WUG', 'Water Board',\n",
      "                  'Water authority'],\n",
      "                 ordered=False)\n",
      " CategoricalDtype(categories=['A', 'ADRA', 'AMREF', 'AMRSF', 'AUWASA Pipe scheme',\n",
      "                  'AUWASA pipe scheme', 'Adra', 'African Barrick Gold',\n",
      "                  'Akheri gravity water supply', 'Alpha crust',\n",
      "                  ...\n",
      "                  'upper Ruv', 'upper Ruvu', 'upper Ruvuv', 'upper ruvu', 'v',\n",
      "                  'wananc', 'wangama water supply scheme',\n",
      "                  'wanging'ombe supply scheme', 'wanging'ombe water supply s',\n",
      "                  'wanginyi water supplied sch'],\n",
      "                 ordered=False)\n",
      " CategoricalDtype(categories=['afridev', 'cemo', 'climax', 'gravity', 'india mark ii',\n",
      "                  'india mark iii', 'ksb', 'mono', 'nira/tanira', 'other',\n",
      "                  'other - mkulima/shinyanga', 'other - play pump',\n",
      "                  'other - rope pump', 'other - swn 81', 'submersible',\n",
      "                  'swn 80', 'walimi', 'windmill'],\n",
      "                 ordered=False)\n",
      " CategoricalDtype(categories=['afridev', 'gravity', 'india mark ii', 'india mark iii',\n",
      "                  'mono', 'nira/tanira', 'other', 'other handpump',\n",
      "                  'other motorpump', 'rope pump', 'submersible', 'swn 80',\n",
      "                  'wind-powered'],\n",
      "                 ordered=False)\n",
      " CategoricalDtype(categories=['gravity', 'handpump', 'motorpump', 'other', 'rope pump',\n",
      "                  'submersible', 'wind-powered'],\n",
      "                 ordered=False)\n",
      " CategoricalDtype(categories=['company', 'other', 'other - school', 'parastatal',\n",
      "                  'private operator', 'trust', 'unknown', 'vwc',\n",
      "                  'water authority', 'water board', 'wua', 'wug'],\n",
      "                 ordered=False)\n",
      " CategoricalDtype(categories=['commercial', 'other', 'parastatal', 'unknown',\n",
      "                  'user-group'],\n",
      "                 ordered=False)\n",
      " CategoricalDtype(categories=['never pay', 'other', 'pay annually', 'pay monthly',\n",
      "                  'pay per bucket', 'pay when scheme fails', 'unknown'],\n",
      "                 ordered=False)\n",
      " CategoricalDtype(categories=['annually', 'monthly', 'never pay', 'on failure', 'other',\n",
      "                  'per bucket', 'unknown'],\n",
      "                 ordered=False)\n",
      " CategoricalDtype(categories=['coloured', 'fluoride', 'fluoride abandoned', 'milky',\n",
      "                  'salty', 'salty abandoned', 'soft', 'unknown'],\n",
      "                 ordered=False)\n",
      " CategoricalDtype(categories=['colored', 'fluoride', 'good', 'milky', 'salty', 'unknown'], ordered=False)\n",
      " CategoricalDtype(categories=['dry', 'enough', 'insufficient', 'seasonal', 'unknown'], ordered=False)\n",
      " CategoricalDtype(categories=['dam', 'hand dtw', 'lake', 'machine dbh', 'other',\n",
      "                  'rainwater harvesting', 'river', 'shallow well', 'spring',\n",
      "                  'unknown'],\n",
      "                 ordered=False)\n",
      " CategoricalDtype(categories=['borehole', 'dam', 'other', 'rainwater harvesting',\n",
      "                  'river/lake', 'shallow well', 'spring'],\n",
      "                 ordered=False)\n",
      " CategoricalDtype(categories=['groundwater', 'surface', 'unknown'], ordered=False)\n",
      " CategoricalDtype(categories=['cattle trough', 'communal standpipe',\n",
      "                  'communal standpipe multiple', 'dam', 'hand pump',\n",
      "                  'improved spring', 'other'],\n",
      "                 ordered=False)\n",
      " CategoricalDtype(categories=['cattle trough', 'communal standpipe', 'dam', 'hand pump',\n",
      "                  'improved spring', 'other'],\n",
      "                 ordered=False)\n",
      " CategoricalDtype(categories=['functional', 'functional needs repair', 'non functional'], ordered=False)\n",
      " dtype('int16') dtype('int8')]\n"
     ]
    }
   ],
   "source": [
    "print(trainingData.dtypes.unique())"
   ]
  },
  {
   "cell_type": "code",
   "execution_count": 5,
   "metadata": {
    "gather": {
     "logged": 1600421358190
    }
   },
   "outputs": [
    {
     "name": "stdout",
     "output_type": "stream",
     "text": [
      "labels-shape: (38019,)\n",
      "features-shape: (38019, 39)\n"
     ]
    }
   ],
   "source": [
    "#split in labels and features\n",
    "labels = trainingData['status_group_cat']\n",
    "features = trainingData.drop(['status_group_cat','id'],axis=1)\n",
    "no_use_columns = features.select_dtypes(['category']).columns\n",
    "features = features.drop(no_use_columns, axis=1)\n",
    "features_list = features.columns\n",
    "\n",
    "#check shapes\n",
    "print('labels-shape: ' + str(labels.shape))\n",
    "print('features-shape: ' + str(features.shape))"
   ]
  },
  {
   "cell_type": "code",
   "execution_count": 6,
   "metadata": {
    "gather": {
     "logged": 1600421361093
    }
   },
   "outputs": [
    {
     "name": "stdout",
     "output_type": "stream",
     "text": [
      "train_features:  (28514, 39)\n",
      "train_labels:  (28514,)\n",
      "test_features:  (9505, 39)\n",
      "test_labels:  (9505,)\n"
     ]
    }
   ],
   "source": [
    "from sklearn.model_selection import train_test_split\n",
    "#split labels and features is train-data and test-data\n",
    "train_features, test_features, train_labels, test_labels = train_test_split(features, labels, test_size = 0.25, random_state = 42)\n",
    "\n",
    "#check shape\n",
    "print('train_features: ', train_features.shape)\n",
    "print('train_labels: ', train_labels.shape)\n",
    "print('test_features: ', test_features.shape)\n",
    "print('test_labels: ', test_labels.shape)"
   ]
  },
  {
   "cell_type": "markdown",
   "metadata": {},
   "source": [
    "# Try random forest\n"
   ]
  },
  {
   "cell_type": "code",
   "execution_count": 7,
   "metadata": {
    "gather": {
     "logged": 1600421361775
    }
   },
   "outputs": [],
   "source": [
    "\n",
    "from sklearn.ensemble import RandomForestClassifier\n"
   ]
  },
  {
   "cell_type": "code",
   "execution_count": 12,
   "metadata": {
    "gather": {
     "logged": 1600421394153
    }
   },
   "outputs": [
    {
     "name": "stdout",
     "output_type": "stream",
     "text": [
      "Baseline_error is:  0.93\n"
     ]
    },
    {
     "data": {
      "text/plain": [
       "RandomForestClassifier(bootstrap=True, class_weight=None, criterion='gini',\n",
       "            max_depth=None, max_features='auto', max_leaf_nodes=None,\n",
       "            min_impurity_decrease=0.0, min_impurity_split=None,\n",
       "            min_samples_leaf=1, min_samples_split=2,\n",
       "            min_weight_fraction_leaf=0.0, n_estimators=500, n_jobs=None,\n",
       "            oob_score=False, random_state=42, verbose=0, warm_start=False)"
      ]
     },
     "execution_count": 12,
     "metadata": {},
     "output_type": "execute_result"
    }
   ],
   "source": [
    "##fit\n",
    "# create baseline\n",
    "baseline_preds = 1 # this is 'functional needs repair' - so every pump needs service\n",
    "baseline_errors = abs(1-test_labels)\n",
    "print('Baseline_error is: ', round(np.mean(baseline_errors),2))\n",
    "\n",
    "# train model\n",
    "randomforest = RandomForestClassifier(n_estimators= 500, random_state = 42)\n",
    "randomforest.fit(train_features, train_labels)"
   ]
  },
  {
   "cell_type": "code",
   "execution_count": 13,
   "metadata": {
    "gather": {
     "logged": 1600421396142
    }
   },
   "outputs": [],
   "source": [
    "#predict\n",
    "predictions = randomforest.predict(test_features)\n"
   ]
  },
  {
   "cell_type": "code",
   "execution_count": 14,
   "metadata": {
    "gather": {
     "logged": 1600421396824
    }
   },
   "outputs": [
    {
     "name": "stdout",
     "output_type": "stream",
     "text": [
      "Baseline accuracy-score is: 0.8268 with 500 estimators. LOOKS NOT BAD :-)\n",
      "Accuracy-Score of random-forest is:  0.8268279852709101\n"
     ]
    }
   ],
   "source": [
    "##verify\n",
    "# create baseline\n",
    "print('Baseline accuracy-score is: 0.8268 with 500 estimators. LOOKS NOT BAD :-)')\n",
    "# \n",
    "print('Accuracy-Score of random-forest is: ', sklearn.metrics.accuracy_score(test_labels, predictions))"
   ]
  },
  {
   "cell_type": "code",
   "execution_count": null,
   "metadata": {
    "gather": {
     "logged": 1600424232863
    }
   },
   "outputs": [],
   "source": [
    "## Try random fit\n",
    "from sklearn.model_selection import RandomizedSearchCV\n",
    "\n",
    "##create random grid\n",
    "# number of trees in forest\n",
    "n_estimators = [int(x) for x in np.linspace(start = 200, stop= 1000, num = 10)]\n",
    "# Maximum number of levels in tree\n",
    "max_depth = [int(x) for x in np.linspace(10, 110, num = 11)]\n",
    "max_depth.append(None)\n",
    "# Minimum number of samples required to split a node\n",
    "min_samples_split = [2, 5, 10]\n",
    "# Minimum number of samples required at each leaf node\n",
    "min_samples_leaf = [1, 2, 4]\n",
    "# Method for selecting samples for training each node\n",
    "bootstrap = [True, False]\n",
    "\n",
    "random_grid = {'n_estimators': n_estimators,\n",
    "              'max_depth': max_depth,\n",
    "              'min_samples_split': min_samples_split,\n",
    "              'min_samples_leaf': min_samples_leaf,\n",
    "              'bootstrap': bootstrap}\n",
    "\n",
    "randomforest_random = RandomizedSearchCV(estimator = randomforest, param_distributions=random_grid, n_iter = 100, cv= 3, verbose= 2, random_state= 42, n_jobs = -1)\n",
    "randomforest_random.fit(train_features, train_labels)"
   ]
  },
  {
   "cell_type": "code",
   "execution_count": null,
   "metadata": {
    "gather": {
     "logged": 1600424235010
    }
   },
   "outputs": [],
   "source": [
    "predictions_random = randomforest_random.best_estimator_.predict(test_features)\n",
    "print('Accuracy-Score of random-forest is: ', sklearn.metrics.accuracy_score(test_labels, predictions_random))"
   ]
  },
  {
   "cell_type": "code",
   "execution_count": null,
   "metadata": {
    "gather": {
     "logged": 1600424837502
    },
    "jupyter": {
     "outputs_hidden": false,
     "source_hidden": false
    },
    "nteract": {
     "transient": {
      "deleting": false
     }
    }
   },
   "outputs": [],
   "source": [
    "best_estimator = randomforest_random.best_estimator_\n",
    "print(randomforest_random.best_params_)"
   ]
  },
  {
   "cell_type": "code",
   "execution_count": null,
   "metadata": {
    "gather": {
     "logged": 1600425305299
    },
    "jupyter": {
     "outputs_hidden": false,
     "source_hidden": false
    },
    "nteract": {
     "transient": {
      "deleting": false
     }
    }
   },
   "outputs": [],
   "source": [
    "# Use parameters from randomizedSearchCV\n",
    "randomforest = RandomForestClassifier(n_estimators= 500, random_state = 42, min_samples_split = 10, min_samples_leaf = 2, max_depth = 100, bootstrap = False)\n",
    "randomforest.fit(features, labels)\n",
    "predictions = randomforest.predict(test_features)\n",
    "print ('Accuracy-Score of randomforest is: ', sklearn.metrics.accuracy_score(test_labels, predictions))"
   ]
  },
  {
   "cell_type": "code",
   "execution_count": null,
   "metadata": {},
   "outputs": [],
   "source": [
    "##Create output for competition\n",
    "# prepare competition features\n",
    "competition_features = pd.read_csv('702ddfc5-68cd-4d1d-a0de-f5f566f76d91.csv')\n",
    "competition_features_prepared = createCatColumnsWithCodes(competition_features)\n",
    "competition_features_prepared = competition_features_prepared.drop(['id'],axis=1)\n",
    "no_use_columns = competition_features_prepared.select_dtypes(['category']).columns\n",
    "competition_features_prepared = competition_features_prepared.drop(no_use_columns, axis=1)\n",
    "\n",
    "predictions = randomforest.predict(competition_features_prepared)\n",
    "competition_result = pd.read_csv('702ddfc5-68cd-4d1d-a0de-f5f566f76d91.csv')\n",
    "competition_result['status_group'] = predictions\n",
    "competition_result = competition_result[['id', 'status_group']]\n",
    "competition_result['status_group'] = competition_result['status_group'].replace([0,1,2],['functional','functional needs repair', 'non functional'])\n"
   ]
  },
  {
   "cell_type": "code",
   "execution_count": null,
   "metadata": {},
   "outputs": [],
   "source": [
    "#create output csv\n",
    "competition_result.to_csv('predictions2.csv', index=False)"
   ]
  },
  {
   "cell_type": "markdown",
   "metadata": {},
   "source": [
    "## Try SVC"
   ]
  },
  {
   "cell_type": "code",
   "execution_count": 17,
   "metadata": {
    "gather": {
     "logged": 1600424235747
    }
   },
   "outputs": [],
   "source": [
    "from sklearn.svm import SVC"
   ]
  },
  {
   "cell_type": "code",
   "execution_count": 18,
   "metadata": {
    "gather": {
     "logged": 1600424236406
    }
   },
   "outputs": [],
   "source": [
    "classifier = SVC(gamma='scale')"
   ]
  },
  {
   "cell_type": "code",
   "execution_count": 19,
   "metadata": {
    "gather": {
     "logged": 1600424318716
    }
   },
   "outputs": [
    {
     "data": {
      "text/plain": [
       "SVC(C=1.0, cache_size=200, class_weight=None, coef0=0.0,\n",
       "  decision_function_shape='ovr', degree=3, gamma='scale', kernel='rbf',\n",
       "  max_iter=-1, probability=False, random_state=None, shrinking=True,\n",
       "  tol=0.001, verbose=False)"
      ]
     },
     "execution_count": 19,
     "metadata": {},
     "output_type": "execute_result"
    }
   ],
   "source": [
    "#fit\n",
    "classifier.fit(train_features, train_labels)"
   ]
  },
  {
   "cell_type": "code",
   "execution_count": 20,
   "metadata": {
    "gather": {
     "logged": 1600424338174
    }
   },
   "outputs": [],
   "source": [
    "predictions = classifier.predict(test_features)"
   ]
  },
  {
   "cell_type": "code",
   "execution_count": 21,
   "metadata": {
    "gather": {
     "logged": 1600424339043
    }
   },
   "outputs": [
    {
     "data": {
      "text/plain": [
       "0.5570752235665439"
      ]
     },
     "execution_count": 21,
     "metadata": {},
     "output_type": "execute_result"
    }
   ],
   "source": [
    "sklearn.metrics.accuracy_score(test_labels, predictions)"
   ]
  },
  {
   "cell_type": "code",
   "execution_count": null,
   "metadata": {},
   "outputs": [],
   "source": []
  }
 ],
 "metadata": {
  "kernel_info": {
   "name": "python3"
  },
  "kernelspec": {
   "display_name": "Python 3",
   "language": "python",
   "name": "python3"
  },
  "language_info": {
   "codemirror_mode": {
    "name": "ipython",
    "version": 3
   },
   "file_extension": ".py",
   "mimetype": "text/x-python",
   "name": "python",
   "nbconvert_exporter": "python",
   "pygments_lexer": "ipython3",
   "version": "3.7.3"
  },
  "nteract": {
   "version": "nteract-front-end@1.0.0"
  }
 },
 "nbformat": 4,
 "nbformat_minor": 4
}
